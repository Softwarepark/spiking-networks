{
 "cells": [
  {
   "cell_type": "code",
   "execution_count": null,
   "metadata": {},
   "outputs": [],
   "source": [
    "import numpy as np\n",
    "import pandas as pd\n",
    "import random as r\n",
    "%matplotlib inline\n",
    "import matplotlib.pyplot as plt # side-stepping mpl backend"
   ]
  },
  {
   "cell_type": "code",
   "execution_count": null,
   "metadata": {},
   "outputs": [],
   "source": [
    "def plot(I, O, **kwargs):\n",
    "    count = 2 + len(kwargs)\n",
    "    fig, axes = plt.subplots(count, 1, sharex=True,figsize=(12,3))\n",
    "    ax1=axes[0]\n",
    "    ax2=axes[1]\n",
    "\n",
    "    ax1.step(time, I, 'b-') # y label\n",
    "    ax2.step(time, O, 'r-')\n",
    "   \n",
    "\n",
    "    axes[-1].set_xlabel('time') # x label\n",
    "\n",
    "    ax1.set_ylabel('Input', color='b')\n",
    "    ax2.set_ylabel('Output', color='r')\n",
    "    \n",
    "    c = 2\n",
    "    for k, v in kwargs.items():\n",
    "        ax = axes[c]\n",
    "        c+=1\n",
    "        ax.step(time,v)\n",
    "        ax.set_ylabel(k)\n",
    "        \n",
    "    plt.show()   "
   ]
  },
  {
   "cell_type": "code",
   "execution_count": null,
   "metadata": {},
   "outputs": [],
   "source": [
    "import subprocess\n",
    "result = subprocess.run(['go', 'run', 'main.go'], cwd='perf', stdout=subprocess.PIPE, stderr=subprocess.PIPE)\n",
    "print(result.stdout.decode('utf-8'))\n",
    "print(result.stderr.decode('utf-8'))\n",
    "\n",
    "df = pd.read_table('perf/dump.tsv')\n",
    "\n",
    "plt.figure(figsize = (20,5))\n",
    "_ = plt.imshow(df.T, interpolation='none', aspect='auto')\n",
    "plt.show()"
   ]
  },
  {
   "cell_type": "code",
   "execution_count": null,
   "metadata": {},
   "outputs": [],
   "source": [
    "O=df.sum(axis=1)\n",
    "\n",
    "fig = plt.figure(figsize = (20,5))\n",
    "plt.autoscale(enable=True, axis='x', tight=True)\n",
    "_ = plt.plot(O, lw=0.3)"
   ]
  }
 ],
 "metadata": {
  "environment": {
   "name": "tf2-2-3-gpu.2-3.m55",
   "type": "gcloud",
   "uri": "gcr.io/deeplearning-platform-release/tf2-2-3-gpu.2-3:m55"
  },
  "kernelspec": {
   "display_name": "Python 3",
   "language": "python",
   "name": "python3"
  },
  "language_info": {
   "codemirror_mode": {
    "name": "ipython",
    "version": 3
   },
   "file_extension": ".py",
   "mimetype": "text/x-python",
   "name": "python",
   "nbconvert_exporter": "python",
   "pygments_lexer": "ipython3",
   "version": "3.6.9"
  }
 },
 "nbformat": 4,
 "nbformat_minor": 4
}
