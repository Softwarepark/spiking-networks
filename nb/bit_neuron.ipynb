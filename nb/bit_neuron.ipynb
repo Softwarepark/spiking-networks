{
 "cells": [
  {
   "cell_type": "code",
   "execution_count": 45,
   "metadata": {},
   "outputs": [],
   "source": [
    "import numpy as np\n",
    "import random as r\n",
    "%matplotlib inline\n",
    "import matplotlib.pyplot as plt # side-stepping mpl backend"
   ]
  },
  {
   "cell_type": "code",
   "execution_count": 46,
   "metadata": {},
   "outputs": [],
   "source": [
    "def ones(value):\n",
    "    n = 0\n",
    "    while value:\n",
    "        n += 1\n",
    "        value &= value-1\n",
    "    return n\n",
    "\n",
    "def threshold(value, window, adapt):\n",
    "\n",
    "    mask = (1<<window)-1\n",
    "    value = ones(value & mask)\n",
    "    return value >= adapt\n",
    "\n",
    "def plot(I, O, **kwargs):\n",
    "    count = 2 + len(kwargs)\n",
    "    fig, axes = plt.subplots(count, 1, sharex=True,figsize=(12,3))\n",
    "    ax1=axes[0]\n",
    "    ax2=axes[1]\n",
    "\n",
    "    ax1.step(time, I, 'b-') # y label\n",
    "    ax2.step(time, O, 'r-')\n",
    "   \n",
    "\n",
    "    axes[-1].set_xlabel('time') # x label\n",
    "\n",
    "    ax1.set_ylabel('Input', color='b')\n",
    "    ax2.set_ylabel('Output', color='r')\n",
    "    \n",
    "    c = 2\n",
    "    for k, v in kwargs.items():\n",
    "        ax = axes[c]\n",
    "        c+=1\n",
    "        ax.step(time,v)\n",
    "        ax.set_ylabel(k)\n",
    "        \n",
    " \n",
    "\n",
    "\n",
    "    plt.show()   "
   ]
  },
  {
   "cell_type": "code",
   "execution_count": 53,
   "metadata": {},
   "outputs": [
    {
     "data": {
      "image/png": "[encoded data removed]",
      "text/plain": [
       "<Figure size 864x216 with 3 Axes>"
      ]
     },
     "metadata": {
      "needs_background": "light"
     },
     "output_type": "display_data"
    }
   ],
   "source": [
    "time=np.arange(0,100,1)\n",
    "size = ((len(time)))\n",
    "I=np.zeros(size)\n",
    "O=np.zeros(size)\n",
    "d1=np.zeros(size)\n",
    "d2=np.zeros(size)\n",
    "\n",
    "# const\n",
    "limit = 7\n",
    "mask = (1<<limit) - 1\n",
    "MIN_FATIGUE=1\n",
    "# vars\n",
    "state = 0 # potential\n",
    "fatigue = MIN_FATIGUE \n",
    "recovery = 0\n",
    "\n",
    "for k in range (0,len(time)):\n",
    "\n",
    "    if k>10 and k < len(time)-20:\n",
    "        signal = 1 if r.random() >= 0.5 else 0\n",
    "    else:\n",
    "        signal=0\n",
    "    I[k] = signal\n",
    "    \n",
    "    state = ((state << 1) | signal) & mask\n",
    "\n",
    "    fatigue = min(fatigue, limit)\n",
    "    activate = ones(state & mask) >= fatigue\n",
    "\n",
    "    if activate:\n",
    "        O[k] = 1\n",
    "        state = 0\n",
    "        fatigue += 1\n",
    "        recovery=0\n",
    "        \n",
    "    if recovery>=8:\n",
    "        recovery=0\n",
    "        fatigue=max(MIN_FATIGUE, fatigue-1)    \n",
    "        \n",
    "    if fatigue:\n",
    "        recovery+=1\n",
    "        \n",
    "        \n",
    "    d1[k]=fatigue\n",
    "        \n",
    "plot(I, O, fatigue=d1)"
   ]
  },
  {
   "cell_type": "code",
   "execution_count": null,
   "metadata": {},
   "outputs": [],
   "source": []
  }
 ],
 "metadata": {
  "environment": {
   "name": "tf2-2-3-gpu.2-3.m55",
   "type": "gcloud",
   "uri": "gcr.io/deeplearning-platform-release/tf2-2-3-gpu.2-3:m55"
  },
  "kernelspec": {
   "display_name": "Python 3",
   "language": "python",
   "name": "python3"
  },
  "language_info": {
   "codemirror_mode": {
    "name": "ipython",
    "version": 3
   },
   "file_extension": ".py",
   "mimetype": "text/x-python",
   "name": "python",
   "nbconvert_exporter": "python",
   "pygments_lexer": "ipython3",
   "version": "3.7.8"
  }
 },
 "nbformat": 4,
 "nbformat_minor": 4
}
