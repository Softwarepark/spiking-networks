{
 "cells": [
  {
   "cell_type": "code",
   "execution_count": 323,
   "metadata": {},
   "outputs": [],
   "source": [
    "import numpy as np\n",
    "import random as r\n",
    "%matplotlib inline\n",
    "import matplotlib.pyplot as plt # side-stepping mpl backend"
   ]
  },
  {
   "cell_type": "code",
   "execution_count": 319,
   "metadata": {},
   "outputs": [],
   "source": [
    "# const\n",
    "\n",
    "THRESHOLD_BASE = 1\n",
    "BITS = 2\n",
    "\n",
    "\n",
    "\n",
    "class Neuron:\n",
    "    def __init__(self, uid):\n",
    "        self.uid = uid\n",
    "        \n",
    "        self.threshold = THRESHOLD_BASE\n",
    "\n",
    "        self.potential = 0\n",
    "        \n",
    "        self.inbox=0\n",
    "        self.targets = []\n",
    "        \n",
    "        self.mediator =  r.getrandbits(BITS)\n",
    "  \n",
    "        \n",
    "        self.fired = 0\n",
    "        self.clock = 0\n",
    "        self.log_inbox=0\n",
    "        \n",
    "    def log(self, msg):\n",
    "        if self.uid == 0:\n",
    "            print(msg)\n",
    "\n",
    "    def enqueue(self, signal):\n",
    "        if signal == 0b10:\n",
    "            self.inbox += 1\n",
    "        if signal == 0b11:\n",
    "            pass\n",
    "        if signal == 0b01:\n",
    "            self.inbox +=1\n",
    "      \n",
    "        if signal == 0b00:\n",
    "   \n",
    "            self.inbox += 1\n",
    "        \n",
    "    \n",
    "\n",
    "    def process(self, epoch):\n",
    "        self.fired = 0\n",
    "        \n",
    "        if self.inbox>=3:\n",
    "            self.inbox=3\n",
    "        elif self.inbox<=-1:\n",
    "            self.inbox=-1\n",
    "            \n",
    "        self.potential+=self.inbox\n",
    "        self.log_inbox=self.inbox\n",
    "        self.inbox=0\n",
    "        \n",
    "        # processing\n",
    "        if self.potential > 0:\n",
    "            self.potential -= 1 # decay\n",
    "        elif self.potential < -2:\n",
    "            self.potential = -1\n",
    "        elif self.potential < 0:\n",
    "            self.potential += 1\n",
    "            \n",
    "        self.clock += 1\n",
    "        \n",
    "            \n",
    "        if (self.clock % 3) == 0:\n",
    "            self.threshold = max(THRESHOLD_BASE, self.threshold-1)\n",
    "           \n",
    "        if self.potential >= self.threshold:\n",
    "            #self.log(\"fire {len(self.targets)}\")\n",
    "            for t in self.targets:\n",
    "                t.enqueue(self.mediator)\n",
    "                \n",
    "            self.clock = 0    \n",
    "            self.potential= -1\n",
    "            self.threshold += 1\n",
    "\n",
    "            self.fired = 1\n",
    "\n",
    "\n",
    "class Cleft:\n",
    "    def __init__(self, neuron, delay):\n",
    "        self.neuron = neuron\n",
    "        self.delay = delay\n",
    "        \n",
    "        \n",
    "        self.inbox = [None] * delay\n",
    "        self.pointer = 0\n",
    "        \n",
    "    def enqueue(self, signal):\n",
    "   \n",
    "        self.inbox[self.pointer] = signal\n",
    "        \n",
    "    def process(self, epoch):\n",
    "        self.pointer = (self.pointer + 1) % len(self.inbox)\n",
    "        \n",
    "        signal = self.inbox[self.pointer]\n",
    "        \n",
    "        if signal is not None:\n",
    "            self.neuron.enqueue(signal)\n",
    "        self.inbox[self.pointer] = None"
   ]
  },
  {
   "cell_type": "code",
   "execution_count": 320,
   "metadata": {},
   "outputs": [],
   "source": [
    "def plot(I, O, **kwargs):\n",
    "    count = 2 + len(kwargs)\n",
    "    fig, axes = plt.subplots(count, 1, sharex=True,figsize=(12,3))\n",
    "    ax1=axes[0]\n",
    "    ax2=axes[1]\n",
    "\n",
    "    ax1.step(time, I, 'b-') # y label\n",
    "    ax2.step(time, O, 'r-')\n",
    "   \n",
    "\n",
    "    axes[-1].set_xlabel('time') # x label\n",
    "\n",
    "    ax1.set_ylabel('Input', color='b')\n",
    "    ax2.set_ylabel('Output', color='r')\n",
    "    \n",
    "    c = 2\n",
    "    for k, v in kwargs.items():\n",
    "        ax = axes[c]\n",
    "        c+=1\n",
    "        ax.step(time,v)\n",
    "        ax.set_ylabel(k)\n",
    "        \n",
    "    plt.show()   "
   ]
  },
  {
   "cell_type": "code",
   "execution_count": 321,
   "metadata": {},
   "outputs": [
    {
     "data": {
      "image/png": "[encoded data removed]",
      "text/plain": [
       "<Figure size 1440x360 with 1 Axes>"
      ]
     },
     "metadata": {
      "needs_background": "light"
     },
     "output_type": "display_data"
    }
   ],
   "source": [
    "TIME=300\n",
    "NEURONS=500\n",
    "CONNECTIONS=30\n",
    "\n",
    "time=np.arange(0, TIME,1)\n",
    "\n",
    "I=np.zeros(TIME)\n",
    "O=np.zeros(TIME)\n",
    "d1=np.zeros(TIME)\n",
    "d2=np.zeros(TIME)\n",
    "\n",
    "neurons = [Neuron(i) for i in range(NEURONS)]\n",
    "# connect neurons randomly\n",
    "\n",
    "fires = np.zeros((TIME, NEURONS))\n",
    "\n",
    "clefts = []\n",
    "for n in neurons:\n",
    "    targets = r.sample(neurons, 20)\n",
    "    for t in targets:\n",
    "        c = Cleft(t, r.randint(2,9))\n",
    "        n.targets.append(c) \n",
    "        clefts.append(c)\n",
    "\n",
    "fired = 0\n",
    "\n",
    "for c in clefts[0:10]:\n",
    "    c.enqueue(r.getrandbits(BITS))\n",
    "for i in time:\n",
    "    \n",
    "    neuron_inbox = 0\n",
    "    cleft_inbox = 0\n",
    "    for n in neurons:\n",
    "        n.enqueue(3)\n",
    "        fires[i][n.uid]=n.fired\n",
    "        \n",
    "        n.process(i)\n",
    "        if n.fired:\n",
    "            O[i]+=1\n",
    "    for c in clefts:\n",
    "\n",
    "        c.process(i)\n",
    "        \n",
    "plt.figure(figsize = (20,5))\n",
    "_ = plt.imshow(fires.T, interpolation='none', aspect='auto')\n",
    "plt.show()"
   ]
  },
  {
   "cell_type": "code",
   "execution_count": 322,
   "metadata": {},
   "outputs": [
    {
     "data": {
      "image/png": "[encoded data removed]",
      "text/plain": [
       "<Figure size 1440x360 with 1 Axes>"
      ]
     },
     "metadata": {
      "needs_background": "light"
     },
     "output_type": "display_data"
    }
   ],
   "source": [
    "plt.figure(figsize = (20,5))\n",
    "_ = plt.plot(O)"
   ]
  },
  {
   "cell_type": "code",
   "execution_count": null,
   "metadata": {},
   "outputs": [],
   "source": []
  }
 ],
 "metadata": {
  "environment": {
   "name": "tf2-2-3-gpu.2-3.m55",
   "type": "gcloud",
   "uri": "gcr.io/deeplearning-platform-release/tf2-2-3-gpu.2-3:m55"
  },
  "kernelspec": {
   "display_name": "Python 3",
   "language": "python",
   "name": "python3"
  },
  "language_info": {
   "codemirror_mode": {
    "name": "ipython",
    "version": 3
   },
   "file_extension": ".py",
   "mimetype": "text/x-python",
   "name": "python",
   "nbconvert_exporter": "python",
   "pygments_lexer": "ipython3",
   "version": "3.7.8"
  }
 },
 "nbformat": 4,
 "nbformat_minor": 4
}
