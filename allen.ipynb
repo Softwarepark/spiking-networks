{
 "cells": [
  {
   "cell_type": "code",
   "execution_count": null,
   "metadata": {},
   "outputs": [],
   "source": [
    "!pip install allensdk pandas==0.25.1"
   ]
  },
  {
   "cell_type": "code",
   "execution_count": null,
   "metadata": {},
   "outputs": [],
   "source": [
    "import warnings\n",
    "from h5py.h5py_warnings import H5pyDeprecationWarning\n",
    "warnings.filterwarnings(\"ignore\", category=H5pyDeprecationWarning)\n",
    "warnings.filterwarnings(\"ignore\", category=FutureWarning)\n",
    "warnings.filterwarnings(\"ignore\", category=RuntimeWarning)"
   ]
  },
  {
   "cell_type": "code",
   "execution_count": null,
   "metadata": {},
   "outputs": [],
   "source": [
    "from allensdk.core.cell_types_cache import CellTypesCache\n",
    "\n",
    "# Instantiate the CellTypesCache instance.  The manifest_file argument\n",
    "# tells it where to store the manifest, which is a JSON file that tracks\n",
    "# file paths.  If you supply a relative path (like this), it will go\n",
    "# into your current working directory\n",
    "ctc = CellTypesCache(manifest_file='cell_types/manifest.json')\n",
    "\n",
    "# this saves the NWB file to 'cell_types/specimen_464212183/ephys.nwb'\n",
    "cell_specimen_id = 327644217\n",
    "data_set = ctc.get_ephys_data(cell_specimen_id)"
   ]
  },
  {
   "cell_type": "code",
   "execution_count": null,
   "metadata": {},
   "outputs": [],
   "source": [
    "%matplotlib inline\n",
    "import numpy as np\n",
    "import matplotlib.pyplot as plt\n",
    "\n",
    "sweep_number = 34\n",
    "sweep_data = data_set.get_sweep(sweep_number)\n",
    "\n",
    "index_range = sweep_data[\"index_range\"]\n",
    "i = sweep_data[\"stimulus\"][0:index_range[1]+1] # in A\n",
    "v = sweep_data[\"response\"][0:index_range[1]+1] # in V\n",
    "i *= 1e12 # to pA\n",
    "v *= 1e3 # to mV\n",
    "\n",
    "sampling_rate = sweep_data[\"sampling_rate\"] # in Hz\n",
    "t = np.arange(0, len(v)) * (1.0 / sampling_rate)\n",
    "\n",
    "#optionally to mark the spikes\n",
    "#sweep_ext = EphysSweepFeatureExtractor(t=t, v=v, i=i, start=9, end=14)\n",
    "#sweep_ext.process_spikes()\n",
    "#spike_times = sweep_ext.spike_feature(\"threshold_t\")\n",
    "#threshold_v = sweep_ext.spike_feature(\"threshold_v\")\n",
    "\n",
    "#plt.style.use('ggplot')\n",
    "fig, axes = plt.subplots(2, 1, sharex=True)\n",
    "axes[0].plot(t, v, 'b-')\n",
    "axes[1].plot(t, i, 'r')\n",
    "axes[0].set_ylabel(\"mV\")\n",
    "axes[1].set_ylabel(\"pA\")\n",
    "axes[0].set_xlabel(\"cell response\")\n",
    "axes[1].set_xlabel(\"stimulus\")\n",
    "#axes[0].scatter(spike_times, threshold_v, s=40, c='firebrick', zorder=20)\n",
    "plt.suptitle(f\"Specimen {cell_specimen_id}, sweep {sweep_number}\")\n",
    "plt.xlim(1, 1.2)\n",
    "plt.show()"
   ]
  },
  {
   "cell_type": "code",
   "execution_count": null,
   "metadata": {},
   "outputs": [],
   "source": [
    "from allensdk.ephys.ephys_extractor import EphysSweepFeatureExtractor\n",
    "\n",
    "sampling_rate = sweep_data[\"sampling_rate\"] # in Hz\n",
    "t = np.arange(0, len(v)) * (1.0 / sampling_rate)\n",
    "\n",
    "\n",
    "fig = plt.figure()\n",
    "plt.plot(t, v, color='black')\n",
    "\n",
    "# setting zorder puts the dots on top of the trace\n",
    "plt.scatter(spike_times, threshold_v, s=50, c='firebrick', zorder=20)\n",
    "plt.xlim(1.0, 1.2)"
   ]
  }
 ],
 "metadata": {
  "environment": {
   "name": "tf2-2-3-gpu.2-3.m55",
   "type": "gcloud",
   "uri": "gcr.io/deeplearning-platform-release/tf2-2-3-gpu.2-3:m55"
  },
  "kernelspec": {
   "display_name": "Python 3",
   "language": "python",
   "name": "python3"
  },
  "language_info": {
   "codemirror_mode": {
    "name": "ipython",
    "version": 3
   },
   "file_extension": ".py",
   "mimetype": "text/x-python",
   "name": "python",
   "nbconvert_exporter": "python",
   "pygments_lexer": "ipython3",
   "version": "3.6.9"
  }
 },
 "nbformat": 4,
 "nbformat_minor": 4
}
