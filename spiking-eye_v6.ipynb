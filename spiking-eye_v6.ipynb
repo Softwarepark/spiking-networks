{
 "cells": [
  {
   "cell_type": "code",
   "execution_count": null,
   "metadata": {},
   "outputs": [],
   "source": [
    "import numpy as np\n",
    "import pandas as pd\n",
    "import random as r\n",
    "%matplotlib inline\n",
    "import matplotlib.pyplot as plt # side-stepping mpl backend\n",
    "from scipy.stats import entropy\n",
    "pipe = subprocess.PIPE\n",
    "\n",
    "def run(neurons=200, time=1000):\n",
    "    result = subprocess.run(\n",
    "        ['go', 'run', 'main.go',\n",
    "         f'-neurons={neurons}',\n",
    "         f'-time={time}'\n",
    "                            ], cwd='perf', stdout=pipe, stderr=pipe)\n",
    "\n",
    "    if result.returncode==0:\n",
    "        print(result.stdout.decode('utf-8'))\n",
    "    else:\n",
    "        print(result.stderr.decode('utf-8'))\n",
    "        raise ValueError(\"Failure\")\n",
    "\n",
    "def render_output():\n",
    "    df = pd.read_table('perf/dump.tsv')\n",
    "\n",
    "    O=df.sum(axis=1)\n",
    "\n",
    "    print(f'entropy: {entropy(O)}')\n",
    "\n",
    "    fig, axs = plt.subplots(2, figsize = (20,10), sharex=True)\n",
    "    axs[1].autoscale(enable=True, axis='x', tight=True)\n",
    "    axs[0].plot(O, lw=0.1)\n",
    "    axs[1].imshow(df.T, interpolation='none', aspect='auto')\n",
    "    fig.tight_layout()\n",
    "    plt.show()"
   ]
  },
  {
   "cell_type": "code",
   "execution_count": null,
   "metadata": {},
   "outputs": [],
   "source": [
    "run(neurons=100, time=100)\n",
    "render_output()"
   ]
  },
  {
   "cell_type": "code",
   "execution_count": null,
   "metadata": {},
   "outputs": [],
   "source": [
    "from skopt import Optimizer\n",
    "\n",
    "opt = Optimizer([(-2.0, 2.0)])\n",
    "\n",
    "for i in range(20):\n",
    "    suggested = opt.ask()\n",
    "    y = f(suggested)\n",
    "    opt.tell(suggested, y)\n",
    "    print('iteration:', i, suggested, y)"
   ]
  },
  {
   "cell_type": "code",
   "execution_count": null,
   "metadata": {},
   "outputs": [],
   "source": [
    "render_output()"
   ]
  }
 ],
 "metadata": {
  "environment": {
   "name": "tf2-2-3-gpu.2-3.m55",
   "type": "gcloud",
   "uri": "gcr.io/deeplearning-platform-release/tf2-2-3-gpu.2-3:m55"
  },
  "kernelspec": {
   "display_name": "Python 3",
   "language": "python",
   "name": "python3"
  },
  "language_info": {
   "codemirror_mode": {
    "name": "ipython",
    "version": 3
   },
   "file_extension": ".py",
   "mimetype": "text/x-python",
   "name": "python",
   "nbconvert_exporter": "python",
   "pygments_lexer": "ipython3",
   "version": "3.6.9"
  }
 },
 "nbformat": 4,
 "nbformat_minor": 4
}
