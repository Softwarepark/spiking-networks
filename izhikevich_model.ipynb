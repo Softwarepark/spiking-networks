{
 "cells": [
  {
   "cell_type": "code",
   "execution_count": null,
   "metadata": {},
   "outputs": [],
   "source": [
    "# LIBRARY\n",
    "# http://www.maths.dit.ie/~johnbutler/Izhikevich/IzhikevichModel.html\n",
    "# vector manipulation\n",
    "import numpy as np\n",
    "import sys\n",
    "\n",
    "# THIS IS FOR PLOTTING\n",
    "%matplotlib inline\n",
    "import matplotlib.pyplot as plt # side-stepping mpl backend\n",
    "import warnings\n",
    "warnings.filterwarnings(\"ignore\")\n",
    "from ipywidgets import interact, interactive, fixed, interact_manual\n",
    "import ipywidgets as widgets\n"
   ]
  },
  {
   "cell_type": "code",
   "execution_count": null,
   "metadata": {},
   "outputs": [],
   "source": [
    "#### Model Input\n",
    "h=0.5 #step size\n",
    "input_onset=300             # Onset of input\n",
    "input_ends=1000\n",
    "input_amp=5                 # AMPLITUDE OF INPUT\n",
    "\n",
    "\n",
    "time=np.arange(0,1200.1,h)  # time period 1000ms (1s)\n",
    "\n",
    "def Input(input_onset,input_amp):\n",
    "    I=np.zeros((len(time)))     # CURRENT (INPUT)\n",
    "\n",
    "    for k in range (0,len(time)):\n",
    "        \n",
    "        if time[k] >input_onset and time[k] < input_ends:\n",
    "            I[k]=input_amp # Input change\n",
    "    return I\n",
    "\n",
    "# PLOTTING THE INPUT    \n",
    "fig, ax1 = plt.subplots(figsize=(12,3))\n",
    "ax1.plot(time, Input(input_onset,input_amp), 'b-') # y label\n",
    "ax1.set_xlabel('time (s)') # x label\n",
    "# Make the y-axis label, ticks and tick labels match the line color.\n",
    "ax1.set_ylabel('Input mV', color='b')\n",
    "ax1.set_ylim(0,input_amp*2) # setting the plotting range\n",
    "plt.title('Figure 2: Input to the system')\n",
    "plt.show()   "
   ]
  },
  {
   "cell_type": "code",
   "execution_count": null,
   "metadata": {},
   "outputs": [],
   "source": [
    "# Numerical Solution to the Izhikevich model\n",
    "def Discrete_Model(a,b,u,v,I):\n",
    "    v = v + h *(0.04*v*v+5*v+140-u+I) # Discrete form of membrane potential of the neuron \n",
    "    u = u + h *(a*(b*v-u))            # Discrete form of membrane recovery variable\n",
    "    return u,v      "
   ]
  },
  {
   "cell_type": "code",
   "execution_count": null,
   "metadata": {},
   "outputs": [],
   "source": [
    "def Izhikevich(a=0.02,b=0.2,c=-65,d=8):\n",
    "    v=-65*np.ones((len(time)))  # SETS UP THE INITIAL VALUES of the membrane potential\n",
    "    u=0*np.ones((len(time)))    # SETS UP THE INITIAL VALUES of the membrane recovery\n",
    "    u[0]=b*v[0]                 # INITIAL CONDITION \n",
    "    \n",
    "    spiketime=[]\n",
    "    fired=[]\n",
    "    I=Input(input_onset,input_amp)\n",
    "    # EULER METHOD\n",
    "    for k in range (0,len(time)-1):\n",
    "        u[k+1],v[k+1]=Discrete_Model(a,b,u[k],v[k],I[k]) # Numerically solving the equations at each time point\n",
    "           \n",
    "        if v[k+1]>30:\n",
    "            v[k+1]=c\n",
    "            u[k+1]=u[k+1]+d\n",
    "    plot_input_output(time,v,I,a,b,c,d)   "
   ]
  },
  {
   "cell_type": "code",
   "execution_count": null,
   "metadata": {},
   "outputs": [],
   "source": [
    "def plot_input_output(time,v,I,a,b,c,d):   \n",
    "    # PLOTTING\n",
    "    fig, ax1 = plt.subplots(figsize=(12,4))\n",
    "    ax1.plot(time, v, 'b-', label = 'Output')\n",
    "    ax1.set_xlabel('time (ms)')\n",
    "    # Make the y-axis label, ticks and tick labels match the line color.\n",
    "    # Plotting out put \n",
    "    ax1.set_ylabel('Output mV', color='b')\n",
    "    ax1.tick_params('y', colors='b')\n",
    "    ax1.set_ylim(-95,40)\n",
    "    ax2 = ax1.twinx()\n",
    "    # Plotting input on a different axis\n",
    "    ax2.plot(time, I, 'r', label = 'Input')\n",
    "    ax2.set_ylim(0,input_amp*20)\n",
    "    ax2.set_ylabel('Input (mV)', color='r')\n",
    "    ax2.tick_params('y', colors='r')\n",
    "    \n",
    "    fig.tight_layout()\n",
    "    ax1.legend(loc=1)\n",
    "    ax2.legend(loc=3)\n",
    "    ax1.set_title('Parameters a %s b: %s c:  %s d:  %s' %(a,b,c,d))\n",
    "    plt.show()"
   ]
  },
  {
   "cell_type": "code",
   "execution_count": null,
   "metadata": {},
   "outputs": [],
   "source": [
    "interact(Izhikevich, a=(0.02,0.1,0.02), b=(0.2,0.26,0.02),c=(-65,-50), d=(0.05,8));\n"
   ]
  }
 ],
 "metadata": {
  "environment": {
   "name": "tf2-2-3-gpu.2-3.m55",
   "type": "gcloud",
   "uri": "gcr.io/deeplearning-platform-release/tf2-2-3-gpu.2-3:m55"
  },
  "kernelspec": {
   "display_name": "Python 3",
   "language": "python",
   "name": "python3"
  },
  "language_info": {
   "codemirror_mode": {
    "name": "ipython",
    "version": 3
   },
   "file_extension": ".py",
   "mimetype": "text/x-python",
   "name": "python",
   "nbconvert_exporter": "python",
   "pygments_lexer": "ipython3",
   "version": "3.7.8"
  }
 },
 "nbformat": 4,
 "nbformat_minor": 4
}
